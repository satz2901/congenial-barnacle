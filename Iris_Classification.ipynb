{
  "nbformat": 4,
  "nbformat_minor": 0,
  "metadata": {
    "colab": {
      "name": "Iris_Classification.ipynb",
      "provenance": [],
      "authorship_tag": "ABX9TyNjOrYEUt1PM6sTsHdrZwhj",
      "include_colab_link": true
    },
    "kernelspec": {
      "name": "python3",
      "display_name": "Python 3"
    },
    "language_info": {
      "name": "python"
    }
  },
  "cells": [
    {
      "cell_type": "markdown",
      "metadata": {
        "id": "view-in-github",
        "colab_type": "text"
      },
      "source": [
        "<a href=\"https://colab.research.google.com/github/satz2901/congenial-barnacle/blob/main/Iris_Classification.ipynb\" target=\"_parent\"><img src=\"https://colab.research.google.com/assets/colab-badge.svg\" alt=\"Open In Colab\"/></a>"
      ]
    },
    {
      "cell_type": "code",
      "metadata": {
        "id": "2SZq6mblMkbt"
      },
      "source": [
        "%tensorflow_version 2.x\n",
        "from __future__ import absolute_import,print_function,division,unicode_literals\n",
        "import tensorflow as tf\n",
        "import pandas as pd\n",
        "import numpy as np\n",
        "CSV_COLUMN_NAMES=['SepalLength','SepalWidth','PetalLength','PetalWidth','Species']\n",
        "SPECIES=['Sentosa','Versicolor','Virginica']\n",
        "train_path=tf.keras.utils.get_file(\"iris_training.csv\",\"https://storage.googleapis.com/download.tensorflow.org/data/iris_training.csv\")\n",
        "test_path=tf.keras.utils.get_file(\"iris_test.csv\",\"https://storage.googleapis.com/download.tensorflow.org/data/iris_test.csv\")\n",
        "train=pd.read_csv(train_path,names=CSV_COLUMN_NAMES,header=0)\n",
        "test=pd.read_csv(test_path,names=CSV_COLUMN_NAMES,header=0)\n",
        "train_y=train.pop('Species')\n",
        "test_y=test.pop('Species')\n",
        "def input_fn (features,labels,training=True,batch_size=256):\n",
        "  dataset=tf.data.Dataset.from_tensor_slices((dict(features),labels))\n",
        "  if training:\n",
        "    dataset=dataset.shuffle(1000).repeat()\n",
        "  return dataset.batch(batch_size)\n",
        "my_feature_column=[]\n",
        "for key in train.keys():\n",
        "  my_feature_column.append(tf.feature_column.numeric_column(key=key))\n",
        "classifier=tf.estimator.DNNClassifier(feature_columns=my_feature_column,hidden_units=[30,10],n_classes=3)\n",
        "classifier.train(input_fn= lambda:input_fn(train,train_y,training=True),steps=5000)\n",
        "eval_result=classifier.evaluate(input_fn=lambda: input_fn(test,test_y,training=False))\n",
        "print('\\nTest set accuracy: {accuracy:0.3f}\\n'.format(**eval_result))\n",
        "def input_fn(features,batch_size=256):\n",
        "  return tf.data.Dataset.from_tensor_slices(dict(features)).batch(batch_size)\n",
        "features=['SepalLength','SepalWidth','PetalLength','PetalWidth']\n",
        "predict={}\n",
        "print(\"please type numeric value as prompted:\")\n",
        "for feature in features:\n",
        "  valid=True\n",
        "  while valid:\n",
        "    val=input(feature+\":\")\n",
        "    if not val.isdigit(): valid=False\n",
        "  predict[feature]=[float(val)]\n",
        "predictions=classifier.predict(input_fn=lambda: input_fn(predict))\n",
        "for pred_dict in predictions:\n",
        "  class_id=pred_dict['class_ids'][0]\n",
        "  probability=pred_dict['probabilities'][class_id]\n",
        "  print('prediction is \"{}\" ({:.1f}%)'.format(SPECIES[class_id],100*probability))"
      ],
      "execution_count": null,
      "outputs": []
    },
    {
      "cell_type": "code",
      "metadata": {
        "id": "9PdCGCRTxBCK"
      },
      "source": [
        ""
      ],
      "execution_count": null,
      "outputs": []
    }
  ]
}