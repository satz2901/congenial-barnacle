{
  "nbformat": 4,
  "nbformat_minor": 0,
  "metadata": {
    "colab": {
      "name": "Dogs_vs_cats.ipynb",
      "provenance": [],
      "authorship_tag": "ABX9TyOCLeoZ4jP4QWIVgwBtyeX0",
      "include_colab_link": true
    },
    "kernelspec": {
      "name": "python3",
      "display_name": "Python 3"
    },
    "language_info": {
      "name": "python"
    }
  },
  "cells": [
    {
      "cell_type": "markdown",
      "metadata": {
        "id": "view-in-github",
        "colab_type": "text"
      },
      "source": [
        "<a href=\"https://colab.research.google.com/github/satz2901/congenial-barnacle/blob/main/Dogs_vs_cats.ipynb\" target=\"_parent\"><img src=\"https://colab.research.google.com/assets/colab-badge.svg\" alt=\"Open In Colab\"/></a>"
      ]
    },
    {
      "cell_type": "code",
      "metadata": {
        "id": "ThErEQoVdttE"
      },
      "source": [
        "import os\n",
        "import numpy as np\n",
        "import matplotlib.pyplot as plt\n",
        "import tensorflow as tf\n",
        "keras=tf.keras"
      ],
      "execution_count": 15,
      "outputs": []
    },
    {
      "cell_type": "code",
      "metadata": {
        "id": "rpv_V-gKeHpe"
      },
      "source": [
        "import tensorflow_datasets as tfds\n",
        "tfds.disable_progress_bar()\n",
        "(raw_train,raw_validation,raw_test),metadata=tfds.load(\n",
        "    'cats_vs_dogs',\n",
        "    split=['train[:80%]','train[80%:90%]','train[90%:]'],\n",
        "    with_info=True,\n",
        "    as_supervised=True,\n",
        ")"
      ],
      "execution_count": null,
      "outputs": []
    },
    {
      "cell_type": "code",
      "metadata": {
        "id": "fxmNd6W5g7of"
      },
      "source": [
        "IMG_SIZE=160\n",
        "def format_example(image,label):\n",
        "   image=tf.cast(image,tf.float32)\n",
        "   image=(image/127.5)-1\n",
        "   image=tf.image.resize(image,(IMG_SIZE,IMG_SIZE))\n",
        "   return image,label\n"
      ],
      "execution_count": 24,
      "outputs": []
    },
    {
      "cell_type": "code",
      "metadata": {
        "id": "ljQ8hnF9B7pB"
      },
      "source": [
        "train=raw_train.map(format_example)\n",
        "validation=raw_validation.map(format_example)\n",
        "test=raw_test.map(format_example)"
      ],
      "execution_count": 25,
      "outputs": []
    },
    {
      "cell_type": "code",
      "metadata": {
        "id": "zLrVrvuhDEFz"
      },
      "source": [
        "BATCH_SIZE=32\n",
        "SHUFFLE_BUFFER_SIZE=1000\n",
        "train_batches=train.shuffle(SHUFFLE_BUFFER_SIZE).batch(BATCH_SIZE)\n",
        "validation_batches=validation.batch(BATCH_SIZE)\n",
        "test_batches=test.batch(BATCH_SIZE)"
      ],
      "execution_count": 28,
      "outputs": []
    },
    {
      "cell_type": "code",
      "metadata": {
        "id": "Lj6kdJISERNJ"
      },
      "source": [
        "for img,label in raw_train.take(2):\n",
        "  print(\"original shape:\",img.shape)\n",
        "\n",
        "for img,label in train.take(2):\n",
        "  print(\"new shape:\",img.shape)"
      ],
      "execution_count": null,
      "outputs": []
    },
    {
      "cell_type": "code",
      "metadata": {
        "id": "PG99mgJBEzOK"
      },
      "source": [
        "IMG_SHAPE=(IMG_SIZE,IMG_SIZE,3)\n",
        "\n",
        "base_model=tf.keras.applications.MobileNetV2(\n",
        "    input_shape=IMG_SHAPE,\n",
        "    include_top=False,\n",
        "    weights='imagenet'\n",
        ")"
      ],
      "execution_count": null,
      "outputs": []
    },
    {
      "cell_type": "code",
      "metadata": {
        "id": "yojo6ONzlFGF"
      },
      "source": [
        "for image, _ in train_batches.take(1):\n",
        "   pass\n",
        "\n",
        "feature_batch = base_model(image)\n",
        "print(feature_batch.shape)"
      ],
      "execution_count": null,
      "outputs": []
    },
    {
      "cell_type": "code",
      "metadata": {
        "id": "vmz8SCHVH-hs"
      },
      "source": [
        "base_model.trainable=False"
      ],
      "execution_count": 34,
      "outputs": []
    },
    {
      "cell_type": "code",
      "metadata": {
        "id": "VxohE7-LIQLJ"
      },
      "source": [
        "global_average_layer=tf.keras.layers.GlobalAveragePooling2D()"
      ],
      "execution_count": 36,
      "outputs": []
    },
    {
      "cell_type": "code",
      "metadata": {
        "id": "SHEs4YyJIdjX"
      },
      "source": [
        "prediction_layer=tf.keras.layers.Dense(1)"
      ],
      "execution_count": 37,
      "outputs": []
    },
    {
      "cell_type": "code",
      "metadata": {
        "id": "QLdtHcCLIu6b"
      },
      "source": [
        "model=tf.keras.Sequential([base_model,\n",
        "                           global_average_layer,\n",
        "                           prediction_layer])"
      ],
      "execution_count": 38,
      "outputs": []
    },
    {
      "cell_type": "code",
      "metadata": {
        "id": "Xjrrxmi3JDaB"
      },
      "source": [
        "base_learning_rate=0.0001\n",
        "model.compile(optimizer=tf.keras.optimizers.RMSprop(base_learning_rate),\n",
        "              loss=tf.keras.losses.BinaryCrossentropy(from_logits=True),\n",
        "              metrics=['accuracy'])"
      ],
      "execution_count": 40,
      "outputs": []
    },
    {
      "cell_type": "code",
      "metadata": {
        "id": "cHzSN5WpJ4kU"
      },
      "source": [
        "initial_epoch=3\n",
        "validation_steps=20\n",
        "loss0,accuracy0=model.evaluate(validation_batches,steps=validation_steps)"
      ],
      "execution_count": null,
      "outputs": []
    },
    {
      "cell_type": "code",
      "metadata": {
        "id": "-ml5fL2bKQvR"
      },
      "source": [
        "history= model.fit(train_batches,\n",
        "                   epochs=initial_epoch,\n",
        "                   validation_data=validation_batches)\n",
        "acc=history.history['accuracy']\n",
        "print(acc)"
      ],
      "execution_count": null,
      "outputs": []
    },
    {
      "cell_type": "code",
      "metadata": {
        "id": "qU7ms7wCK7hG"
      },
      "source": [
        "model.save(\"dogs_vs_cats.h5\")\n",
        "\n",
        "new_model= tf.keras.models.load_model('dogs_vs_cats.h5')"
      ],
      "execution_count": 44,
      "outputs": []
    }
  ]
}